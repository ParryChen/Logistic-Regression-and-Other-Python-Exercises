{
 "cells": [
  {
   "cell_type": "markdown",
   "metadata": {},
   "source": [
    "### Packages and Data"
   ]
  },
  {
   "cell_type": "code",
   "execution_count": 89,
   "metadata": {
    "scrolled": true
   },
   "outputs": [],
   "source": [
    "import numpy as np\n",
    "import pandas as pd\n",
    "import statsmodels.api as sm\n",
    "import sklearn\n",
    "from sklearn.metrics import confusion_matrix, classification_report\n",
    "import json\n",
    "import re"
   ]
  },
  {
   "cell_type": "code",
   "execution_count": 42,
   "metadata": {
    "scrolled": true
   },
   "outputs": [],
   "source": [
    "rev = pd.read_csv(\"InterviewData_Cost.csv\")\n",
    "cost = pd.read_csv(\"InterviewData_Rev.csv\")\n",
    "df = pd.read_csv(\"InterviewData_Activity.csv\")"
   ]
  },
  {
   "cell_type": "markdown",
   "metadata": {},
   "source": [
    "### Question 1"
   ]
  },
  {
   "cell_type": "code",
   "execution_count": 73,
   "metadata": {
    "scrolled": true
   },
   "outputs": [],
   "source": [
    "merged = cost.merge(rev, how = \"outer\", on = [\"date\", \"source_id\"])"
   ]
  },
  {
   "cell_type": "code",
   "execution_count": 20,
   "metadata": {
    "scrolled": false
   },
   "outputs": [
    {
     "data": {
      "text/html": [
       "<div>\n",
       "<style scoped>\n",
       "    .dataframe tbody tr th:only-of-type {\n",
       "        vertical-align: middle;\n",
       "    }\n",
       "\n",
       "    .dataframe tbody tr th {\n",
       "        vertical-align: top;\n",
       "    }\n",
       "\n",
       "    .dataframe thead th {\n",
       "        text-align: right;\n",
       "    }\n",
       "</style>\n",
       "<table border=\"1\" class=\"dataframe\">\n",
       "  <thead>\n",
       "    <tr style=\"text-align: right;\">\n",
       "      <th></th>\n",
       "      <th>date</th>\n",
       "      <th>source_id</th>\n",
       "      <th>revenue</th>\n",
       "      <th>cost</th>\n",
       "    </tr>\n",
       "  </thead>\n",
       "  <tbody>\n",
       "    <tr>\n",
       "      <th>0</th>\n",
       "      <td>8/1/14</td>\n",
       "      <td>PA0368</td>\n",
       "      <td>5717.0</td>\n",
       "      <td>NaN</td>\n",
       "    </tr>\n",
       "    <tr>\n",
       "      <th>1</th>\n",
       "      <td>1/31/14</td>\n",
       "      <td>PA0277</td>\n",
       "      <td>1380.0</td>\n",
       "      <td>NaN</td>\n",
       "    </tr>\n",
       "    <tr>\n",
       "      <th>2</th>\n",
       "      <td>6/9/14</td>\n",
       "      <td>PA0745</td>\n",
       "      <td>7535.0</td>\n",
       "      <td>588.0</td>\n",
       "    </tr>\n",
       "    <tr>\n",
       "      <th>3</th>\n",
       "      <td>9/1/14</td>\n",
       "      <td>PA0751</td>\n",
       "      <td>2868.0</td>\n",
       "      <td>3736.0</td>\n",
       "    </tr>\n",
       "    <tr>\n",
       "      <th>4</th>\n",
       "      <td>3/12/14</td>\n",
       "      <td>PA0859</td>\n",
       "      <td>10757.0</td>\n",
       "      <td>1391.0</td>\n",
       "    </tr>\n",
       "  </tbody>\n",
       "</table>\n",
       "</div>"
      ],
      "text/plain": [
       "      date source_id  revenue    cost\n",
       "0   8/1/14    PA0368   5717.0     NaN\n",
       "1  1/31/14    PA0277   1380.0     NaN\n",
       "2   6/9/14    PA0745   7535.0   588.0\n",
       "3   9/1/14    PA0751   2868.0  3736.0\n",
       "4  3/12/14    PA0859  10757.0  1391.0"
      ]
     },
     "execution_count": 20,
     "metadata": {},
     "output_type": "execute_result"
    }
   ],
   "source": [
    "merged.head()"
   ]
  },
  {
   "cell_type": "markdown",
   "metadata": {},
   "source": [
    "### Question 2"
   ]
  },
  {
   "cell_type": "code",
   "execution_count": 74,
   "metadata": {
    "scrolled": true
   },
   "outputs": [],
   "source": [
    "no_rev = merged[(merged[\"cost\"].notnull() & merged[\"revenue\"].isnull())]"
   ]
  },
  {
   "cell_type": "code",
   "execution_count": 75,
   "metadata": {
    "scrolled": true
   },
   "outputs": [
    {
     "data": {
      "text/html": [
       "<div>\n",
       "<style scoped>\n",
       "    .dataframe tbody tr th:only-of-type {\n",
       "        vertical-align: middle;\n",
       "    }\n",
       "\n",
       "    .dataframe tbody tr th {\n",
       "        vertical-align: top;\n",
       "    }\n",
       "\n",
       "    .dataframe thead th {\n",
       "        text-align: right;\n",
       "    }\n",
       "</style>\n",
       "<table border=\"1\" class=\"dataframe\">\n",
       "  <thead>\n",
       "    <tr style=\"text-align: right;\">\n",
       "      <th></th>\n",
       "      <th>date</th>\n",
       "      <th>source_id</th>\n",
       "      <th>revenue</th>\n",
       "      <th>cost</th>\n",
       "    </tr>\n",
       "  </thead>\n",
       "  <tbody>\n",
       "    <tr>\n",
       "      <th>1968</th>\n",
       "      <td>4/15/14</td>\n",
       "      <td>PA0169</td>\n",
       "      <td>NaN</td>\n",
       "      <td>8511.0</td>\n",
       "    </tr>\n",
       "    <tr>\n",
       "      <th>2445</th>\n",
       "      <td>2/13/14</td>\n",
       "      <td>PA0293</td>\n",
       "      <td>NaN</td>\n",
       "      <td>8242.0</td>\n",
       "    </tr>\n",
       "    <tr>\n",
       "      <th>2903</th>\n",
       "      <td>8/20/14</td>\n",
       "      <td>PA0467</td>\n",
       "      <td>NaN</td>\n",
       "      <td>473.0</td>\n",
       "    </tr>\n",
       "    <tr>\n",
       "      <th>3118</th>\n",
       "      <td>9/30/14</td>\n",
       "      <td>PA0973</td>\n",
       "      <td>NaN</td>\n",
       "      <td>5178.0</td>\n",
       "    </tr>\n",
       "    <tr>\n",
       "      <th>3425</th>\n",
       "      <td>1/23/14</td>\n",
       "      <td>PA0308</td>\n",
       "      <td>NaN</td>\n",
       "      <td>7991.0</td>\n",
       "    </tr>\n",
       "  </tbody>\n",
       "</table>\n",
       "</div>"
      ],
      "text/plain": [
       "         date source_id  revenue    cost\n",
       "1968  4/15/14    PA0169      NaN  8511.0\n",
       "2445  2/13/14    PA0293      NaN  8242.0\n",
       "2903  8/20/14    PA0467      NaN   473.0\n",
       "3118  9/30/14    PA0973      NaN  5178.0\n",
       "3425  1/23/14    PA0308      NaN  7991.0"
      ]
     },
     "execution_count": 75,
     "metadata": {},
     "output_type": "execute_result"
    }
   ],
   "source": [
    "no_rev.head()"
   ]
  },
  {
   "cell_type": "markdown",
   "metadata": {},
   "source": [
    "### Question 3"
   ]
  },
  {
   "cell_type": "code",
   "execution_count": 76,
   "metadata": {
    "scrolled": true
   },
   "outputs": [
    {
     "data": {
      "text/plain": [
       "source_id\n",
       "PA0527    1385747.0\n",
       "PA0308    1338615.0\n",
       "PA0352    1309685.0\n",
       "PA0552    1283190.0\n",
       "Name: revenue, dtype: float64"
      ]
     },
     "execution_count": 76,
     "metadata": {},
     "output_type": "execute_result"
    }
   ],
   "source": [
    "merged.groupby(\"source_id\")[\"revenue\"].sum().sort_values(ascending = False).head(4)"
   ]
  },
  {
   "cell_type": "markdown",
   "metadata": {},
   "source": [
    "To visualize, I would use a sns.countplot and add percent to total. We could dig further into the dates by creating bins and adding dates to the hue parameter. "
   ]
  },
  {
   "cell_type": "markdown",
   "metadata": {},
   "source": [
    "### Question 4"
   ]
  },
  {
   "cell_type": "code",
   "execution_count": 53,
   "metadata": {
    "scrolled": true
   },
   "outputs": [],
   "source": [
    "dummy_genders = pd.get_dummies(df['gender'], prefix = 'gender')\n",
    "dummy_metro = pd.get_dummies(df['metropolitan_area'], prefix = 'metro_area')\n",
    "dummy_device = pd.get_dummies(df['device_type'], prefix = 'device')\n",
    "cols_to_keep = ['active', 'age']\n",
    "activity_data = df[cols_to_keep].join(dummy_genders.loc[:, 'gender_M':])\n",
    "activity_data = activity_data.join(dummy_metro.loc[:, 'metro_area_Birmingham':])\n",
    "activity_data = activity_data.join(dummy_device.loc[:, 'device_Mobile':])\n",
    "activity_data = sm.add_constant(activity_data, prepend=False)\n",
    "explanatory_cols = activity_data.columns[1:]\n",
    "full_logit_model = sm.GLM(activity_data['active'], activity_data[explanatory_cols], family=sm.families.Binomial())\n",
    "result = full_logit_model.fit()"
   ]
  },
  {
   "cell_type": "code",
   "execution_count": 54,
   "metadata": {
    "scrolled": false
   },
   "outputs": [
    {
     "data": {
      "text/html": [
       "<table class=\"simpletable\">\n",
       "<caption>Generalized Linear Model Regression Results</caption>\n",
       "<tr>\n",
       "  <th>Dep. Variable:</th>        <td>active</td>      <th>  No. Observations:  </th>  <td>  5420</td> \n",
       "</tr>\n",
       "<tr>\n",
       "  <th>Model:</th>                  <td>GLM</td>       <th>  Df Residuals:      </th>  <td>  5408</td> \n",
       "</tr>\n",
       "<tr>\n",
       "  <th>Model Family:</th>        <td>Binomial</td>     <th>  Df Model:          </th>  <td>    11</td> \n",
       "</tr>\n",
       "<tr>\n",
       "  <th>Link Function:</th>         <td>logit</td>      <th>  Scale:             </th> <td>  1.0000</td>\n",
       "</tr>\n",
       "<tr>\n",
       "  <th>Method:</th>                <td>IRLS</td>       <th>  Log-Likelihood:    </th> <td> -3613.1</td>\n",
       "</tr>\n",
       "<tr>\n",
       "  <th>Date:</th>            <td>Sat, 14 Nov 2020</td> <th>  Deviance:          </th> <td>  7226.3</td>\n",
       "</tr>\n",
       "<tr>\n",
       "  <th>Time:</th>                <td>14:47:42</td>     <th>  Pearson chi2:      </th> <td>5.38e+03</td>\n",
       "</tr>\n",
       "<tr>\n",
       "  <th>No. Iterations:</th>         <td>22</td>        <th>                     </th>     <td> </td>   \n",
       "</tr>\n",
       "<tr>\n",
       "  <th>Covariance Type:</th>     <td>nonrobust</td>    <th>                     </th>     <td> </td>   \n",
       "</tr>\n",
       "</table>\n",
       "<table class=\"simpletable\">\n",
       "<tr>\n",
       "            <td></td>               <th>coef</th>     <th>std err</th>      <th>z</th>      <th>P>|z|</th>  <th>[0.025</th>    <th>0.975]</th>  \n",
       "</tr>\n",
       "<tr>\n",
       "  <th>age</th>                   <td>    0.0136</td> <td>    0.003</td> <td>    5.180</td> <td> 0.000</td> <td>    0.008</td> <td>    0.019</td>\n",
       "</tr>\n",
       "<tr>\n",
       "  <th>gender_M</th>              <td>   -0.6103</td> <td>    0.083</td> <td>   -7.343</td> <td> 0.000</td> <td>   -0.773</td> <td>   -0.447</td>\n",
       "</tr>\n",
       "<tr>\n",
       "  <th>metro_area_Birmingham</th> <td>   -0.0547</td> <td>    0.095</td> <td>   -0.576</td> <td> 0.564</td> <td>   -0.241</td> <td>    0.131</td>\n",
       "</tr>\n",
       "<tr>\n",
       "  <th>metro_area_Charlotte</th>  <td>   -1.8619</td> <td>    0.337</td> <td>   -5.529</td> <td> 0.000</td> <td>   -2.522</td> <td>   -1.202</td>\n",
       "</tr>\n",
       "<tr>\n",
       "  <th>metro_area_Detroit</th>    <td>   -0.0792</td> <td>    0.115</td> <td>   -0.689</td> <td> 0.491</td> <td>   -0.304</td> <td>    0.146</td>\n",
       "</tr>\n",
       "<tr>\n",
       "  <th>metro_area_Houston</th>    <td>   -0.4496</td> <td>    0.093</td> <td>   -4.850</td> <td> 0.000</td> <td>   -0.631</td> <td>   -0.268</td>\n",
       "</tr>\n",
       "<tr>\n",
       "  <th>metro_area_Mobile</th>     <td>   -1.7244</td> <td>    0.259</td> <td>   -6.655</td> <td> 0.000</td> <td>   -2.232</td> <td>   -1.217</td>\n",
       "</tr>\n",
       "<tr>\n",
       "  <th>metro_area_Nashville</th>  <td>   22.4506</td> <td> 1.35e+04</td> <td>    0.002</td> <td> 0.999</td> <td>-2.64e+04</td> <td> 2.64e+04</td>\n",
       "</tr>\n",
       "<tr>\n",
       "  <th>metro_area_Tampa</th>      <td>    0.1370</td> <td>    0.104</td> <td>    1.312</td> <td> 0.189</td> <td>   -0.068</td> <td>    0.342</td>\n",
       "</tr>\n",
       "<tr>\n",
       "  <th>device_Mobile</th>         <td>   -1.5004</td> <td>    0.264</td> <td>   -5.685</td> <td> 0.000</td> <td>   -2.018</td> <td>   -0.983</td>\n",
       "</tr>\n",
       "<tr>\n",
       "  <th>device_Tablet</th>         <td>   -1.2342</td> <td>    0.269</td> <td>   -4.585</td> <td> 0.000</td> <td>   -1.762</td> <td>   -0.707</td>\n",
       "</tr>\n",
       "<tr>\n",
       "  <th>const</th>                 <td>    1.1553</td> <td>    0.290</td> <td>    3.991</td> <td> 0.000</td> <td>    0.588</td> <td>    1.723</td>\n",
       "</tr>\n",
       "</table>"
      ],
      "text/plain": [
       "<class 'statsmodels.iolib.summary.Summary'>\n",
       "\"\"\"\n",
       "                 Generalized Linear Model Regression Results                  \n",
       "==============================================================================\n",
       "Dep. Variable:                 active   No. Observations:                 5420\n",
       "Model:                            GLM   Df Residuals:                     5408\n",
       "Model Family:                Binomial   Df Model:                           11\n",
       "Link Function:                  logit   Scale:                          1.0000\n",
       "Method:                          IRLS   Log-Likelihood:                -3613.1\n",
       "Date:                Sat, 14 Nov 2020   Deviance:                       7226.3\n",
       "Time:                        14:47:42   Pearson chi2:                 5.38e+03\n",
       "No. Iterations:                    22                                         \n",
       "Covariance Type:            nonrobust                                         \n",
       "=========================================================================================\n",
       "                            coef    std err          z      P>|z|      [0.025      0.975]\n",
       "-----------------------------------------------------------------------------------------\n",
       "age                       0.0136      0.003      5.180      0.000       0.008       0.019\n",
       "gender_M                 -0.6103      0.083     -7.343      0.000      -0.773      -0.447\n",
       "metro_area_Birmingham    -0.0547      0.095     -0.576      0.564      -0.241       0.131\n",
       "metro_area_Charlotte     -1.8619      0.337     -5.529      0.000      -2.522      -1.202\n",
       "metro_area_Detroit       -0.0792      0.115     -0.689      0.491      -0.304       0.146\n",
       "metro_area_Houston       -0.4496      0.093     -4.850      0.000      -0.631      -0.268\n",
       "metro_area_Mobile        -1.7244      0.259     -6.655      0.000      -2.232      -1.217\n",
       "metro_area_Nashville     22.4506   1.35e+04      0.002      0.999   -2.64e+04    2.64e+04\n",
       "metro_area_Tampa          0.1370      0.104      1.312      0.189      -0.068       0.342\n",
       "device_Mobile            -1.5004      0.264     -5.685      0.000      -2.018      -0.983\n",
       "device_Tablet            -1.2342      0.269     -4.585      0.000      -1.762      -0.707\n",
       "const                     1.1553      0.290      3.991      0.000       0.588       1.723\n",
       "=========================================================================================\n",
       "\"\"\""
      ]
     },
     "execution_count": 54,
     "metadata": {},
     "output_type": "execute_result"
    }
   ],
   "source": [
    "result.summary(activity_data)"
   ]
  },
  {
   "cell_type": "code",
   "execution_count": 82,
   "metadata": {
    "scrolled": false
   },
   "outputs": [
    {
     "name": "stdout",
     "output_type": "stream",
     "text": [
      "Confusion Matrix\n",
      "[[1164 1626]\n",
      " [1521 1109]]\n",
      "              precision    recall  f1-score   support\n",
      "\n",
      "           0      0.434     0.417     0.425      2790\n",
      "           1      0.405     0.422     0.413      2630\n",
      "\n",
      "    accuracy                          0.419      5420\n",
      "   macro avg      0.420     0.419     0.419      5420\n",
      "weighted avg      0.420     0.419     0.419      5420\n",
      "\n"
     ]
    }
   ],
   "source": [
    "predictions = result.predict(activity_data[explanatory_cols])\n",
    "prediction_results = [ 1 if x < 0.5 else 0 for x in predictions]\n",
    "print(\"Confusion Matrix\")\n",
    "print(metrics.confusion_matrix(activity_data[\"active\"], prediction_results))\n",
    "print(classification_report(activity_data[\"active\"], prediction_results, digits = 3))"
   ]
  },
  {
   "cell_type": "markdown",
   "metadata": {},
   "source": [
    "### Answer\n",
    "---\n",
    "Accuracy of model is ~42%"
   ]
  },
  {
   "cell_type": "markdown",
   "metadata": {},
   "source": [
    "### Question 5"
   ]
  },
  {
   "cell_type": "code",
   "execution_count": 83,
   "metadata": {
    "scrolled": true
   },
   "outputs": [],
   "source": [
    "training_data = activity_data[1:4000]\n",
    "test_data = activity_data[4001:].copy()\n",
    "training_logit_model = sm.GLM(training_data['active'], training_data[explanatory_cols], family=sm.families.Binomial())\n",
    "\n",
    "training_result = training_logit_model.fit()"
   ]
  },
  {
   "cell_type": "code",
   "execution_count": 85,
   "metadata": {},
   "outputs": [
    {
     "data": {
      "text/html": [
       "<table class=\"simpletable\">\n",
       "<caption>Generalized Linear Model Regression Results</caption>\n",
       "<tr>\n",
       "  <th>Dep. Variable:</th>        <td>active</td>      <th>  No. Observations:  </th>  <td>  3999</td> \n",
       "</tr>\n",
       "<tr>\n",
       "  <th>Model:</th>                  <td>GLM</td>       <th>  Df Residuals:      </th>  <td>  3987</td> \n",
       "</tr>\n",
       "<tr>\n",
       "  <th>Model Family:</th>        <td>Binomial</td>     <th>  Df Model:          </th>  <td>    11</td> \n",
       "</tr>\n",
       "<tr>\n",
       "  <th>Link Function:</th>         <td>logit</td>      <th>  Scale:             </th> <td>  1.0000</td>\n",
       "</tr>\n",
       "<tr>\n",
       "  <th>Method:</th>                <td>IRLS</td>       <th>  Log-Likelihood:    </th> <td> -2554.6</td>\n",
       "</tr>\n",
       "<tr>\n",
       "  <th>Date:</th>            <td>Sat, 14 Nov 2020</td> <th>  Deviance:          </th> <td>  5109.3</td>\n",
       "</tr>\n",
       "<tr>\n",
       "  <th>Time:</th>                <td>16:44:06</td>     <th>  Pearson chi2:      </th> <td>3.97e+03</td>\n",
       "</tr>\n",
       "<tr>\n",
       "  <th>No. Iterations:</th>         <td>22</td>        <th>                     </th>     <td> </td>   \n",
       "</tr>\n",
       "<tr>\n",
       "  <th>Covariance Type:</th>     <td>nonrobust</td>    <th>                     </th>     <td> </td>   \n",
       "</tr>\n",
       "</table>\n",
       "<table class=\"simpletable\">\n",
       "<tr>\n",
       "            <td></td>               <th>coef</th>     <th>std err</th>      <th>z</th>      <th>P>|z|</th>  <th>[0.025</th>    <th>0.975]</th>  \n",
       "</tr>\n",
       "<tr>\n",
       "  <th>age</th>                   <td>    0.0071</td> <td>    0.003</td> <td>    2.227</td> <td> 0.026</td> <td>    0.001</td> <td>    0.013</td>\n",
       "</tr>\n",
       "<tr>\n",
       "  <th>gender_M</th>              <td>   -0.5802</td> <td>    0.097</td> <td>   -5.981</td> <td> 0.000</td> <td>   -0.770</td> <td>   -0.390</td>\n",
       "</tr>\n",
       "<tr>\n",
       "  <th>metro_area_Birmingham</th> <td>   -0.1187</td> <td>    0.115</td> <td>   -1.037</td> <td> 0.300</td> <td>   -0.343</td> <td>    0.106</td>\n",
       "</tr>\n",
       "<tr>\n",
       "  <th>metro_area_Charlotte</th>  <td>   -1.7834</td> <td>    0.382</td> <td>   -4.663</td> <td> 0.000</td> <td>   -2.533</td> <td>   -1.034</td>\n",
       "</tr>\n",
       "<tr>\n",
       "  <th>metro_area_Detroit</th>    <td>   -0.1390</td> <td>    0.138</td> <td>   -1.007</td> <td> 0.314</td> <td>   -0.409</td> <td>    0.132</td>\n",
       "</tr>\n",
       "<tr>\n",
       "  <th>metro_area_Houston</th>    <td>   -0.4865</td> <td>    0.112</td> <td>   -4.358</td> <td> 0.000</td> <td>   -0.705</td> <td>   -0.268</td>\n",
       "</tr>\n",
       "<tr>\n",
       "  <th>metro_area_Mobile</th>     <td>   -1.7606</td> <td>    0.284</td> <td>   -6.202</td> <td> 0.000</td> <td>   -2.317</td> <td>   -1.204</td>\n",
       "</tr>\n",
       "<tr>\n",
       "  <th>metro_area_Nashville</th>  <td>   21.8608</td> <td> 1.33e+04</td> <td>    0.002</td> <td> 0.999</td> <td> -2.6e+04</td> <td>  2.6e+04</td>\n",
       "</tr>\n",
       "<tr>\n",
       "  <th>metro_area_Tampa</th>      <td>    0.1892</td> <td>    0.127</td> <td>    1.484</td> <td> 0.138</td> <td>   -0.061</td> <td>    0.439</td>\n",
       "</tr>\n",
       "<tr>\n",
       "  <th>device_Mobile</th>         <td>   -1.5818</td> <td>    0.291</td> <td>   -5.428</td> <td> 0.000</td> <td>   -2.153</td> <td>   -1.011</td>\n",
       "</tr>\n",
       "<tr>\n",
       "  <th>device_Tablet</th>         <td>   -1.2830</td> <td>    0.298</td> <td>   -4.309</td> <td> 0.000</td> <td>   -1.867</td> <td>   -0.699</td>\n",
       "</tr>\n",
       "<tr>\n",
       "  <th>const</th>                 <td>    2.0245</td> <td>    0.327</td> <td>    6.187</td> <td> 0.000</td> <td>    1.383</td> <td>    2.666</td>\n",
       "</tr>\n",
       "</table>"
      ],
      "text/plain": [
       "<class 'statsmodels.iolib.summary.Summary'>\n",
       "\"\"\"\n",
       "                 Generalized Linear Model Regression Results                  \n",
       "==============================================================================\n",
       "Dep. Variable:                 active   No. Observations:                 3999\n",
       "Model:                            GLM   Df Residuals:                     3987\n",
       "Model Family:                Binomial   Df Model:                           11\n",
       "Link Function:                  logit   Scale:                          1.0000\n",
       "Method:                          IRLS   Log-Likelihood:                -2554.6\n",
       "Date:                Sat, 14 Nov 2020   Deviance:                       5109.3\n",
       "Time:                        16:44:06   Pearson chi2:                 3.97e+03\n",
       "No. Iterations:                    22                                         \n",
       "Covariance Type:            nonrobust                                         \n",
       "=========================================================================================\n",
       "                            coef    std err          z      P>|z|      [0.025      0.975]\n",
       "-----------------------------------------------------------------------------------------\n",
       "age                       0.0071      0.003      2.227      0.026       0.001       0.013\n",
       "gender_M                 -0.5802      0.097     -5.981      0.000      -0.770      -0.390\n",
       "metro_area_Birmingham    -0.1187      0.115     -1.037      0.300      -0.343       0.106\n",
       "metro_area_Charlotte     -1.7834      0.382     -4.663      0.000      -2.533      -1.034\n",
       "metro_area_Detroit       -0.1390      0.138     -1.007      0.314      -0.409       0.132\n",
       "metro_area_Houston       -0.4865      0.112     -4.358      0.000      -0.705      -0.268\n",
       "metro_area_Mobile        -1.7606      0.284     -6.202      0.000      -2.317      -1.204\n",
       "metro_area_Nashville     21.8608   1.33e+04      0.002      0.999    -2.6e+04     2.6e+04\n",
       "metro_area_Tampa          0.1892      0.127      1.484      0.138      -0.061       0.439\n",
       "device_Mobile            -1.5818      0.291     -5.428      0.000      -2.153      -1.011\n",
       "device_Tablet            -1.2830      0.298     -4.309      0.000      -1.867      -0.699\n",
       "const                     2.0245      0.327      6.187      0.000       1.383       2.666\n",
       "=========================================================================================\n",
       "\"\"\""
      ]
     },
     "execution_count": 85,
     "metadata": {},
     "output_type": "execute_result"
    }
   ],
   "source": [
    "training_result.summary()"
   ]
  },
  {
   "cell_type": "code",
   "execution_count": 84,
   "metadata": {
    "scrolled": true
   },
   "outputs": [
    {
     "name": "stdout",
     "output_type": "stream",
     "text": [
      "Confusion Matrix\n",
      "[[1112  178]\n",
      " [ 121    8]]\n",
      "              precision    recall  f1-score   support\n",
      "\n",
      "           0      0.902     0.862     0.881      1290\n",
      "           1      0.043     0.062     0.051       129\n",
      "\n",
      "    accuracy                          0.789      1419\n",
      "   macro avg      0.472     0.462     0.466      1419\n",
      "weighted avg      0.824     0.789     0.806      1419\n",
      "\n"
     ]
    }
   ],
   "source": [
    "predictions2 = training_result.predict(test_data[explanatory_cols])\n",
    "prediction_results2 = [ 1 if x < 0.5 else 0 for x in predictions2]\n",
    "print(\"Confusion Matrix\")\n",
    "print(metrics.confusion_matrix(test_data[\"active\"], prediction_results2))\n",
    "print(classification_report(test_data[\"active\"], prediction_results2, digits = 3))"
   ]
  },
  {
   "cell_type": "markdown",
   "metadata": {},
   "source": [
    "### Answer\n",
    "---\n",
    "It seems as if the test data was heavily skewed towards being Non-Active(see confusion matrices), therefor heavily skewing the model created with the training data(since so many Non-Active values were omitted). "
   ]
  },
  {
   "cell_type": "markdown",
   "metadata": {},
   "source": [
    "### Question 6"
   ]
  },
  {
   "cell_type": "code",
   "execution_count": 265,
   "metadata": {},
   "outputs": [],
   "source": [
    "data = pd.read_csv(\"InterviewData_Parsing.csv\")"
   ]
  },
  {
   "cell_type": "code",
   "execution_count": 266,
   "metadata": {},
   "outputs": [],
   "source": [
    "def parse(element):\n",
    "    element = element.split(\";\")\n",
    "    element[0] = element[0].replace(\"value\", \"\")\n",
    "    for i in range(4):\n",
    "        element[i] = re.sub('[\\W_]+', '', element[i])\n",
    "    return element\n",
    "data[\"data_to_parse\"] = data[\"data_to_parse\"].apply(parse)\n",
    "for i in range(4):\n",
    "    data[str(i)] = data[\"data_to_parse\"][0][i]"
   ]
  },
  {
   "cell_type": "code",
   "execution_count": 271,
   "metadata": {},
   "outputs": [
    {
     "data": {
      "text/html": [
       "<div>\n",
       "<style scoped>\n",
       "    .dataframe tbody tr th:only-of-type {\n",
       "        vertical-align: middle;\n",
       "    }\n",
       "\n",
       "    .dataframe tbody tr th {\n",
       "        vertical-align: top;\n",
       "    }\n",
       "\n",
       "    .dataframe thead th {\n",
       "        text-align: right;\n",
       "    }\n",
       "</style>\n",
       "<table border=\"1\" class=\"dataframe\">\n",
       "  <thead>\n",
       "    <tr style=\"text-align: right;\">\n",
       "      <th></th>\n",
       "      <th>userid</th>\n",
       "      <th>data_to_parse</th>\n",
       "      <th>0</th>\n",
       "      <th>1</th>\n",
       "      <th>2</th>\n",
       "      <th>3</th>\n",
       "    </tr>\n",
       "  </thead>\n",
       "  <tbody>\n",
       "    <tr>\n",
       "      <th>0</th>\n",
       "      <td>54f3ad9a29ada</td>\n",
       "      <td>[N, U, A7, W]</td>\n",
       "      <td>N</td>\n",
       "      <td>U</td>\n",
       "      <td>A7</td>\n",
       "      <td>W</td>\n",
       "    </tr>\n",
       "    <tr>\n",
       "      <th>1</th>\n",
       "      <td>54f69f2de6aec</td>\n",
       "      <td>[N, U, I6, W]</td>\n",
       "      <td>N</td>\n",
       "      <td>U</td>\n",
       "      <td>A7</td>\n",
       "      <td>W</td>\n",
       "    </tr>\n",
       "    <tr>\n",
       "      <th>2</th>\n",
       "      <td>54f650f004474</td>\n",
       "      <td>[Y, U, A7, W]</td>\n",
       "      <td>N</td>\n",
       "      <td>U</td>\n",
       "      <td>A7</td>\n",
       "      <td>W</td>\n",
       "    </tr>\n",
       "    <tr>\n",
       "      <th>3</th>\n",
       "      <td>54f52e8872227</td>\n",
       "      <td>[N, U, I1, W]</td>\n",
       "      <td>N</td>\n",
       "      <td>U</td>\n",
       "      <td>A7</td>\n",
       "      <td>W</td>\n",
       "    </tr>\n",
       "    <tr>\n",
       "      <th>4</th>\n",
       "      <td>54f64d3075b72</td>\n",
       "      <td>[Y, U, A7, W]</td>\n",
       "      <td>N</td>\n",
       "      <td>U</td>\n",
       "      <td>A7</td>\n",
       "      <td>W</td>\n",
       "    </tr>\n",
       "    <tr>\n",
       "      <th>...</th>\n",
       "      <td>...</td>\n",
       "      <td>...</td>\n",
       "      <td>...</td>\n",
       "      <td>...</td>\n",
       "      <td>...</td>\n",
       "      <td>...</td>\n",
       "    </tr>\n",
       "    <tr>\n",
       "      <th>948</th>\n",
       "      <td>54f5eb32d1a5b</td>\n",
       "      <td>[N, U, A1, W]</td>\n",
       "      <td>N</td>\n",
       "      <td>U</td>\n",
       "      <td>A7</td>\n",
       "      <td>W</td>\n",
       "    </tr>\n",
       "    <tr>\n",
       "      <th>949</th>\n",
       "      <td>54f34bd1a812a</td>\n",
       "      <td>[N, C, A2, L]</td>\n",
       "      <td>N</td>\n",
       "      <td>U</td>\n",
       "      <td>A7</td>\n",
       "      <td>W</td>\n",
       "    </tr>\n",
       "    <tr>\n",
       "      <th>950</th>\n",
       "      <td>54f34aa1e1f00</td>\n",
       "      <td>[Y, U, A1, W]</td>\n",
       "      <td>N</td>\n",
       "      <td>U</td>\n",
       "      <td>A7</td>\n",
       "      <td>W</td>\n",
       "    </tr>\n",
       "    <tr>\n",
       "      <th>951</th>\n",
       "      <td>54f47d97846bc</td>\n",
       "      <td>[N, U, I4, L]</td>\n",
       "      <td>N</td>\n",
       "      <td>U</td>\n",
       "      <td>A7</td>\n",
       "      <td>W</td>\n",
       "    </tr>\n",
       "    <tr>\n",
       "      <th>952</th>\n",
       "      <td>54f5337f14bd6</td>\n",
       "      <td>[N, U, A4, W]</td>\n",
       "      <td>N</td>\n",
       "      <td>U</td>\n",
       "      <td>A7</td>\n",
       "      <td>W</td>\n",
       "    </tr>\n",
       "  </tbody>\n",
       "</table>\n",
       "<p>953 rows × 6 columns</p>\n",
       "</div>"
      ],
      "text/plain": [
       "            userid  data_to_parse  0  1   2  3\n",
       "0    54f3ad9a29ada  [N, U, A7, W]  N  U  A7  W\n",
       "1    54f69f2de6aec  [N, U, I6, W]  N  U  A7  W\n",
       "2    54f650f004474  [Y, U, A7, W]  N  U  A7  W\n",
       "3    54f52e8872227  [N, U, I1, W]  N  U  A7  W\n",
       "4    54f64d3075b72  [Y, U, A7, W]  N  U  A7  W\n",
       "..             ...            ... .. ..  .. ..\n",
       "948  54f5eb32d1a5b  [N, U, A1, W]  N  U  A7  W\n",
       "949  54f34bd1a812a  [N, C, A2, L]  N  U  A7  W\n",
       "950  54f34aa1e1f00  [Y, U, A1, W]  N  U  A7  W\n",
       "951  54f47d97846bc  [N, U, I4, L]  N  U  A7  W\n",
       "952  54f5337f14bd6  [N, U, A4, W]  N  U  A7  W\n",
       "\n",
       "[953 rows x 6 columns]"
      ]
     },
     "execution_count": 271,
     "metadata": {},
     "output_type": "execute_result"
    }
   ],
   "source": [
    "data[\"data_to_parse\"] = data[\"data_to_parse\"].apply(parse)\n",
    "for i in range(4):\n",
    "    data[str(i)] = data[\"data_to_parse\"][0][i]\n",
    "data"
   ]
  },
  {
   "cell_type": "markdown",
   "metadata": {},
   "source": [
    "### Additional Question (A)"
   ]
  },
  {
   "cell_type": "markdown",
   "metadata": {},
   "source": [
    "> Goal: To compare effectiveness between two product trees on our website. \n",
    "\n",
    "> Recommended Test: Conduct an A/B test between the two versions for 4 weeks. \n",
    "\n",
    "> Metrics and Evaluation: Newer version is successful if we see >10% increase in revenue with an alpha of .05 or greater than 95% confidence.\n",
    "\n",
    "> Considerations: If product/website changes are frequent, and we don't already have a conversion rate optimization tool, I would recommend trialing/investing in one. If we don't have the time or resources, I can calculate the frequency tables, find the difference in conversion rates, and calculate the P-value. "
   ]
  }
 ],
 "metadata": {
  "kernelspec": {
   "display_name": "Python 3",
   "language": "python",
   "name": "python3"
  },
  "language_info": {
   "codemirror_mode": {
    "name": "ipython",
    "version": 3
   },
   "file_extension": ".py",
   "mimetype": "text/x-python",
   "name": "python",
   "nbconvert_exporter": "python",
   "pygments_lexer": "ipython3",
   "version": "3.7.6"
  }
 },
 "nbformat": 4,
 "nbformat_minor": 4
}
